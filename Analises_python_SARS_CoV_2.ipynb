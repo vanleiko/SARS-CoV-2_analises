{
  "nbformat": 4,
  "nbformat_minor": 0,
  "metadata": {
    "colab": {
      "name": "Analises_python_SARS-CoV-2.ipynb",
      "provenance": [],
      "collapsed_sections": [],
      "mount_file_id": "16sOjS4825gD-QjnBJ8IyxYrTFBuxiwkZ",
      "authorship_tag": "ABX9TyOod+rUu3tm9Nz82JH28dtN",
      "include_colab_link": true
    },
    "kernelspec": {
      "name": "python3",
      "display_name": "Python 3"
    }
  },
  "cells": [
    {
      "cell_type": "markdown",
      "metadata": {
        "id": "view-in-github",
        "colab_type": "text"
      },
      "source": [
        "<a href=\"https://colab.research.google.com/github/vanleiko/SARS-CoV-2_analises/blob/main/Analises_python_SARS_CoV_2.ipynb\" target=\"_parent\"><img src=\"https://colab.research.google.com/assets/colab-badge.svg\" alt=\"Open In Colab\"/></a>"
      ]
    },
    {
      "cell_type": "markdown",
      "metadata": {
        "id": "wn-_coHpt6_z"
      },
      "source": [
        "[Modelo 3D interativo do SARS-CoV-2](https://sketchfab.com/3d-models/sars-cov-2-covid-19-1533d2519b084a1580ddba0d3c5a3aff)\r\n",
        "\r\n",
        "[Modelo 3D da spike - PDB](https://www.rcsb.org/3d-view/6CRV/1?preset=symmetry&sele=0)\r\n",
        "\r\n",
        "[Next strain](https://nextstrain.org/)"
      ]
    },
    {
      "cell_type": "markdown",
      "metadata": {
        "id": "GaDrd3-jSXuL"
      },
      "source": [
        "##Instalando biopython"
      ]
    },
    {
      "cell_type": "code",
      "metadata": {
        "colab": {
          "base_uri": "https://localhost:8080/"
        },
        "id": "UqQNqf5fThFU",
        "outputId": "2c4d40d6-947f-4888-c16a-5edcb08e3426"
      },
      "source": [
        "# instalar a biblioteca biopython\r\n",
        "!pip install biopython\r\n"
      ],
      "execution_count": null,
      "outputs": [
        {
          "output_type": "stream",
          "text": [
            "Requirement already satisfied: biopython in /usr/local/lib/python3.6/dist-packages (1.78)\n",
            "Requirement already satisfied: numpy in /usr/local/lib/python3.6/dist-packages (from biopython) (1.19.4)\n"
          ],
          "name": "stdout"
        }
      ]
    },
    {
      "cell_type": "code",
      "metadata": {
        "id": "mmz6PzVpTjDi"
      },
      "source": [
        "from Bio import SeqIO\r\n",
        "from Bio.Seq import Seq"
      ],
      "execution_count": null,
      "outputs": []
    },
    {
      "cell_type": "markdown",
      "metadata": {
        "id": "kls8Ug0DuJF_"
      },
      "source": [
        "##**Análise da sequência do mRNA da vacina:**\r\n",
        "\r\n"
      ]
    },
    {
      "cell_type": "markdown",
      "metadata": {
        "id": "a5l9HSZJa31D"
      },
      "source": [
        "[Acesso à sequência original](https://mednet-communities.net/inn/db/media/docs/11889.doc)\r\n",
        "\r\n",
        "Formatei a sequência original da vacina e salvei em um arquivo .txt:\r\n",
        "\r\n",
        "- removi os espaços em branco entre as colunas\r\n",
        "\r\n",
        "- substitui o 'psi' por 'U'\r\n",
        "\r\n",
        "- coloquei um cabeçalho para deixar o arquivo no formato FASTA"
      ]
    },
    {
      "cell_type": "code",
      "metadata": {
        "id": "AHmPR8CGXdPK"
      },
      "source": [
        "# leitura do arquivo tipo fasta com SeqIO\r\n",
        "arquivo_vacina = SeqIO.read(\"/content/drive/MyDrive/Colab Notebooks/rna_vacina_covid/RNA_da_vacina_formatada.txt\", \"fasta\")"
      ],
      "execution_count": null,
      "outputs": []
    },
    {
      "cell_type": "code",
      "metadata": {
        "colab": {
          "base_uri": "https://localhost:8080/"
        },
        "id": "2en7cx7jt3bQ",
        "outputId": "e965e5ad-a78e-4edc-c0fc-f7dd6a8a4726"
      },
      "source": [
        "# extraindo apenas a sequência de RNA com .seq\r\n",
        "rna_vacina = arquivo_vacina.seq\r\n",
        "print(rna_vacina)\r\n"
      ],
      "execution_count": null,
      "outputs": [
        {
          "output_type": "stream",
          "text": [
            "AUGUUCGUGUUCCUGGUGCUGCUGCCUCUGGUGUCCAGCCAGUGUGUGAACCUGACCACCAGAACACAGCUGCCUCCAGCCUACACCAACAGCUUUACCAGAGGCGUGUACUACCCCGACAAGGUGUUCAGAUCCAGCGUGCUGCACUCUACCCAGGACCUGUUCCUGCCUUUCUUCAGCAACGUGACCUGGUUCCACGCCAUCCACGUGUCCGGCACCAAUGGCACCAAGAGAUUCGACAACCCCGUGCUGCCCUUCAACGACGGGGUGUACUUUGCCAGCACCGAGAAGUCCAACAUCAUCAGAGGCUGGAUCUUCGGCACCACACUGGACAGCAAGACCCAGAGCCUGCUGAUCGUGAACAACGCCACCAACGUGGUCAUCAAAGUGUGCGAGUUCCAGUUCUGCAACGACCCCUUCCUGGGCGUCUACUACCACAAGAACAACAAGAGCUGGAUGGAAAGCGAGUUCCGGGUGUACAGCAGCGCCAACAACUGCACCUUCGAGUACGUGUCCCAGCCUUUCCUGAUGGACCUGGAAGGCAAGCAGGGCAACUUCAAGAACCUGCGCGAGUUCGUGUUUAAGAACAUCGACGGCUACUUCAAGAUCUACAGCAAGCACACCCCUAUCAACCUCGUGCGGGAUCUGCCUCAGGGCUUCUCUGCUCUGGAACCCCUGGUGGAUCUGCCCAUCGGCAUCAACAUCACCCGGUUUCAGACACUGCUGGCCCUGCACAGAAGCUACCUGACACCUGGCGAUAGCAGCAGCGGAUGGACAGCUGGUGCCGCCGCUUACUAUGUGGGCUACCUGCAGCCUAGAACCUUCCUGCUGAAGUACAACGAGAACGGCACCAUCACCGACGCCGUGGAUUGUGCUCUGGAUCCUCUGAGCGAGACAAAGUGCACCCUGAAGUCCUUCACCGUGGAAAAGGGCAUCUACCAGACCAGCAACUUCCGGGUGCAGCCCACCGAAUCCAUCGUGCGGUUCCCCAAUAUCACCAAUCUGUGCCCCUUCGGCGAGGUGUUCAAUGCCACCAGAUUCGCCUCUGUGUACGCCUGGAACCGGAAGCGGAUCAGCAAUUGCGUGGCCGACUACUCCGUGCUGUACAACUCCGCCAGCUUCAGCACCUUCAAGUGCUACGGCGUGUCCCCUACCAAGCUGAACGACCUGUGCUUCACAAACGUGUACGCCGACAGCUUCGUGAUCCGGGGAGAUGAAGUGCGGCAGAUUGCCCCUGGACAGACAGGCAAGAUCGCCGACUACAACUACAAGCUGCCCGACGACUUCACCGGCUGUGUGAUUGCCUGGAACAGCAACAACCUGGACUCCAAAGUCGGCGGCAACUACAAUUACCUGUACCGGCUGUUCCGGAAGUCCAAUCUGAAGCCCUUCGAGCGGGACAUCUCCACCGAGAUCUAUCAGGCCGGCAGCACCCCUUGUAACGGCGUGGAAGGCUUCAACUGCUACUUCCCACUGCAGUCCUACGGCUUUCAGCCCACAAAUGGCGUGGGCUAUCAGCCCUACAGAGUGGUGGUGCUGAGCUUCGAACUGCUGCAUGCCCCUGCCACAGUGUGCGGCCCUAAGAAAAGCACCAAUCUCGUGAAGAACAAAUGCGUGAACUUCAACUUCAACGGCCUGACCGGCACCGGCGUGCUGACAGAGAGCAACAAGAAGUUCCUGCCAUUCCAGCAGUUUGGCCGGGAUAUCGCCGAUACCACAGACGCCGUUAGAGAUCCCCAGACACUGGAAAUCCUGGACAUCACCCCUUGCAGCUUCGGCGGAGUGUCUGUGAUCACCCCUGGCACCAACACCAGCAAUCAGGUGGCAGUGCUGUACCAGGACGUGAACUGUACCGAAGUGCCCGUGGCCAUUCACGCCGAUCAGCUGACACCUACAUGGCGGGUGUACUCCACCGGCAGCAAUGUGUUUCAGACCAGAGCCGGCUGUCUGAUCGGAGCCGAGCACGUGAACAAUAGCUACGAGUGCGACAUCCCCAUCGGCGCUGGAAUCUGCGCCAGCUACCAGACACAGACAAACAGCCCUCGGAGAGCCAGAAGCGUGGCCAGCCAGAGCAUCAUUGCCUACACAAUGUCUCUGGGCGCCGAGAACAGCGUGGCCUACUCCAACAACUCUAUCGCUAUCCCCACCAACUUCACCAUCAGCGUGACCACAGAGAUCCUGCCUGUGUCCAUGACCAAGACCAGCGUGGACUGCACCAUGUACAUCUGCGGCGAUUCCACCGAGUGCUCCAACCUGCUGCUGCAGUACGGCAGCUUCUGCACCCAGCUGAAUAGAGCCCUGACAGGGAUCGCCGUGGAACAGGACAAGAACACCCAAGAGGUGUUCGCCCAAGUGAAGCAGAUCUACAAGACCCCUCCUAUCAAGGACUUCGGCGGCUUCAAUUUCAGCCAGAUUCUGCCCGAUCCUAGCAAGCCCAGCAAGCGGAGCUUCAUCGAGGACCUGCUGUUCAACAAAGUGACACUGGCCGACGCCGGCUUCAUCAAGCAGUAUGGCGAUUGUCUGGGCGACAUUGCCGCCAGGGAUCUGAUUUGCGCCCAGAAGUUUAACGGACUGACAGUGCUGCCUCCUCUGCUGACCGAUGAGAUGAUCGCCCAGUACACAUCUGCCCUGCUGGCCGGCACAAUCACAAGCGGCUGGACAUUUGGAGCAGGCGCCGCUCUGCAGAUCCCCUUUGCUAUGCAGAUGGCCUACCGGUUCAACGGCAUCGGAGUGACCCAGAAUGUGCUGUACGAGAACCAGAAGCUGAUCGCCAACCAGUUCAACAGCGCCAUCGGCAAGAUCCAGGACAGCCUGAGCAGCACAGCAAGCGCCCUGGGAAAGCUGCAGGACGUGGUCAACCAGAAUGCCCAGGCACUGAACACCCUGGUCAAGCAGCUGUCCUCCAACUUCGGCGCCAUCAGCUCUGUGCUGAACGAUAUCCUGAGCAGACUGGACCCUCCUGAGGCCGAGGUGCAGAUCGACAGACUGAUCACAGGCAGACUGCAGAGCCUCCAGACAUACGUGACCCAGCAGCUGAUCAGAGCCGCCGAGAUUAGAGCCUCUGCCAAUCUGGCCGCCACCAAGAUGUCUGAGUGUGUGCUGGGCCAGAGCAAGAGAGUGGACUUUUGCGGCAAGGGCUACCACCUGAUGAGCUUCCCUCAGUCUGCCCCUCACGGCGUGGUGUUUCUGCACGUGACAUAUGUGCCCGCUCAAGAGAAGAAUUUCACCACCGCUCCAGCCAUCUGCCACGACGGCAAAGCCCACUUUCCUAGAGAAGGCGUGUUCGUGUCCAACGGCACCCAUUGGUUCGUGACACAGCGGAACUUCUACGAGCCCCAGAUCAUCACCACCGACAACACCUUCGUGUCUGGCAACUGCGACGUCGUGAUCGGCAUUGUGAACAAUACCGUGUACGACCCUCUGCAGCCCGAGCUGGACAGCUUCAAAGAGGAACUGGACAAGUACUUUAAGAACCACACAAGCCCCGACGUGGACCUGGGCGAUAUCAGCGGAAUCAAUGCCAGCGUCGUGAACAUCCAGAAAGAGAUCGACCGGCUGAACGAGGUGGCCAAGAAUCUGAACGAGAGCCUGAUCGACCUGCAAGAACUGGGGAAGUACGAGCAGUACAUCAAGUGGCCCUGGUACAUCUGGCUGGGCUUUAUCGCCGGACUGAUUGCCAUCGUGAUGGUCACAAUCAUGCUGUGUUGCAUGACCAGCUGCUGUAGCUGCCUGAAGGGCUGUUGUAGCUGUGGCAGCUGCUGCAAGUUCGACGAGGACGAUUCUGAGCCCGUGCUGAAGGGCGUGAAACUGCACUACACAUGAUGA\n"
          ],
          "name": "stdout"
        }
      ]
    },
    {
      "cell_type": "code",
      "metadata": {
        "id": "G8C9EgqLuAW9",
        "colab": {
          "base_uri": "https://localhost:8080/"
        },
        "outputId": "872f3633-48f1-4298-ddbf-56053683ce48"
      },
      "source": [
        "# tradução do mRNA em proteína usando o método da biblioteca Biopython .translate()\r\n",
        "# to_stop=True irá parar a tradução nos stop codons\r\n",
        "proteina_vacina = rna_vacina.translate(to_stop=True)\r\n",
        "proteina_vacina\r\n"
      ],
      "execution_count": null,
      "outputs": [
        {
          "output_type": "execute_result",
          "data": {
            "text/plain": [
              "Seq('MFVFLVLLPLVSSQCVNLTTRTQLPPAYTNSFTRGVYYPDKVFRSSVLHSTQDL...HYT')"
            ]
          },
          "metadata": {
            "tags": []
          },
          "execution_count": 30
        }
      ]
    },
    {
      "cell_type": "markdown",
      "metadata": {
        "id": "DEOxHxyOuHCt"
      },
      "source": [
        "##**Análise da sequência dos aminoácidos fornecida pelo NCBI:**\r\n",
        "\r\n"
      ]
    },
    {
      "cell_type": "markdown",
      "metadata": {
        "id": "-cTuC-Pda18k"
      },
      "source": [
        "[Genoma de referência do SARS-CoV-2](https://www.ncbi.nlm.nih.gov/nuccore/1798174254)\r\n",
        "\r\n",
        "Peguei direto a sequência de aminoácidos. Mas também pode-se analisar a sequência dos nucleotídeos da CDS do gene spike e fazer a tradução a partir dela."
      ]
    },
    {
      "cell_type": "code",
      "metadata": {
        "id": "mInuGpqluOg4"
      },
      "source": [
        "# arquivo formato genbank do NCBI\r\n",
        "arquivo_ncbi = SeqIO.read(\"/content/drive/MyDrive/Colab Notebooks/rna_vacina_covid/NCBI_SARS-COV-2.gb\", \"genbank\")"
      ],
      "execution_count": null,
      "outputs": []
    },
    {
      "cell_type": "code",
      "metadata": {
        "colab": {
          "base_uri": "https://localhost:8080/"
        },
        "id": "sYZd_rTRxKsb",
        "outputId": "6902128f-1b9b-4a2e-dc76-e85331bd772f"
      },
      "source": [
        "# extraindo a sequência de aminoácidos do gene spike (\"S\")\r\n",
        "for feature in arquivo_ncbi.features:\r\n",
        "  if feature.type == \"CDS\" and \"S\" in feature.qualifiers.get(\"gene\"):\r\n",
        "    proteina_ncbi = feature.qualifiers[\"translation\"]\r\n",
        "    print(proteina_ncbi)"
      ],
      "execution_count": null,
      "outputs": [
        {
          "output_type": "stream",
          "text": [
            "['MFVFLVLLPLVSSQCVNLTTRTQLPPAYTNSFTRGVYYPDKVFRSSVLHSTQDLFLPFFSNVTWFHAIHVSGTNGTKRFDNPVLPFNDGVYFASTEKSNIIRGWIFGTTLDSKTQSLLIVNNATNVVIKVCEFQFCNDPFLGVYYHKNNKSWMESEFRVYSSANNCTFEYVSQPFLMDLEGKQGNFKNLREFVFKNIDGYFKIYSKHTPINLVRDLPQGFSALEPLVDLPIGINITRFQTLLALHRSYLTPGDSSSGWTAGAAAYYVGYLQPRTFLLKYNENGTITDAVDCALDPLSETKCTLKSFTVEKGIYQTSNFRVQPTESIVRFPNITNLCPFGEVFNATRFASVYAWNRKRISNCVADYSVLYNSASFSTFKCYGVSPTKLNDLCFTNVYADSFVIRGDEVRQIAPGQTGKIADYNYKLPDDFTGCVIAWNSNNLDSKVGGNYNYLYRLFRKSNLKPFERDISTEIYQAGSTPCNGVEGFNCYFPLQSYGFQPTNGVGYQPYRVVVLSFELLHAPATVCGPKKSTNLVKNKCVNFNFNGLTGTGVLTESNKKFLPFQQFGRDIADTTDAVRDPQTLEILDITPCSFGGVSVITPGTNTSNQVAVLYQDVNCTEVPVAIHADQLTPTWRVYSTGSNVFQTRAGCLIGAEHVNNSYECDIPIGAGICASYQTQTNSPRRARSVASQSIIAYTMSLGAENSVAYSNNSIAIPTNFTISVTTEILPVSMTKTSVDCTMYICGDSTECSNLLLQYGSFCTQLNRALTGIAVEQDKNTQEVFAQVKQIYKTPPIKDFGGFNFSQILPDPSKPSKRSFIEDLLFNKVTLADAGFIKQYGDCLGDIAARDLICAQKFNGLTVLPPLLTDEMIAQYTSALLAGTITSGWTFGAGAALQIPFAMQMAYRFNGIGVTQNVLYENQKLIANQFNSAIGKIQDSLSSTASALGKLQDVVNQNAQALNTLVKQLSSNFGAISSVLNDILSRLDKVEAEVQIDRLITGRLQSLQTYVTQQLIRAAEIRASANLAATKMSECVLGQSKRVDFCGKGYHLMSFPQSAPHGVVFLHVTYVPAQEKNFTTAPAICHDGKAHFPREGVFVSNGTHWFVTQRNFYEPQIITTDNTFVSGNCDVVIGIVNNTVYDPLQPELDSFKEELDKYFKNHTSPDVDLGDISGINASVVNIQKEIDRLNEVAKNLNESLIDLQELGKYEQYIKWPWYIWLGFIAGLIAIVMVTIMLCCMTSCCSCLKGCCSCGSCCKFDEDDSEPVLKGVKLHYT']\n"
          ],
          "name": "stdout"
        }
      ]
    },
    {
      "cell_type": "code",
      "metadata": {
        "colab": {
          "base_uri": "https://localhost:8080/",
          "height": 154
        },
        "id": "b4vFzwvL0YZ6",
        "outputId": "b4fde782-20c4-4bcc-9ade-efd6fd57e987"
      },
      "source": [
        "# aqui fiz uma gambiarra para deixar a sequência como tipo string\r\n",
        "proteina_ncbi = proteina_ncbi[0]\r\n",
        "proteina_ncbi"
      ],
      "execution_count": null,
      "outputs": [
        {
          "output_type": "execute_result",
          "data": {
            "application/vnd.google.colaboratory.intrinsic+json": {
              "type": "string"
            },
            "text/plain": [
              "'MFVFLVLLPLVSSQCVNLTTRTQLPPAYTNSFTRGVYYPDKVFRSSVLHSTQDLFLPFFSNVTWFHAIHVSGTNGTKRFDNPVLPFNDGVYFASTEKSNIIRGWIFGTTLDSKTQSLLIVNNATNVVIKVCEFQFCNDPFLGVYYHKNNKSWMESEFRVYSSANNCTFEYVSQPFLMDLEGKQGNFKNLREFVFKNIDGYFKIYSKHTPINLVRDLPQGFSALEPLVDLPIGINITRFQTLLALHRSYLTPGDSSSGWTAGAAAYYVGYLQPRTFLLKYNENGTITDAVDCALDPLSETKCTLKSFTVEKGIYQTSNFRVQPTESIVRFPNITNLCPFGEVFNATRFASVYAWNRKRISNCVADYSVLYNSASFSTFKCYGVSPTKLNDLCFTNVYADSFVIRGDEVRQIAPGQTGKIADYNYKLPDDFTGCVIAWNSNNLDSKVGGNYNYLYRLFRKSNLKPFERDISTEIYQAGSTPCNGVEGFNCYFPLQSYGFQPTNGVGYQPYRVVVLSFELLHAPATVCGPKKSTNLVKNKCVNFNFNGLTGTGVLTESNKKFLPFQQFGRDIADTTDAVRDPQTLEILDITPCSFGGVSVITPGTNTSNQVAVLYQDVNCTEVPVAIHADQLTPTWRVYSTGSNVFQTRAGCLIGAEHVNNSYECDIPIGAGICASYQTQTNSPRRARSVASQSIIAYTMSLGAENSVAYSNNSIAIPTNFTISVTTEILPVSMTKTSVDCTMYICGDSTECSNLLLQYGSFCTQLNRALTGIAVEQDKNTQEVFAQVKQIYKTPPIKDFGGFNFSQILPDPSKPSKRSFIEDLLFNKVTLADAGFIKQYGDCLGDIAARDLICAQKFNGLTVLPPLLTDEMIAQYTSALLAGTITSGWTFGAGAALQIPFAMQMAYRFNGIGVTQNVLYENQKLIANQFNSAIGKIQDSLSSTASALGKLQDVVNQNAQALNTLVKQLSSNFGAISSVLNDILSRLDKVEAEVQIDRLITGRLQSLQTYVTQQLIRAAEIRASANLAATKMSECVLGQSKRVDFCGKGYHLMSFPQSAPHGVVFLHVTYVPAQEKNFTTAPAICHDGKAHFPREGVFVSNGTHWFVTQRNFYEPQIITTDNTFVSGNCDVVIGIVNNTVYDPLQPELDSFKEELDKYFKNHTSPDVDLGDISGINASVVNIQKEIDRLNEVAKNLNESLIDLQELGKYEQYIKWPWYIWLGFIAGLIAIVMVTIMLCCMTSCCSCLKGCCSCGSCCKFDEDDSEPVLKGVKLHYT'"
            ]
          },
          "metadata": {
            "tags": []
          },
          "execution_count": 33
        }
      ]
    },
    {
      "cell_type": "code",
      "metadata": {
        "colab": {
          "base_uri": "https://localhost:8080/"
        },
        "id": "F9ltts8DTf_G",
        "outputId": "418621c2-986a-429d-e860-e901c1be1831"
      },
      "source": [
        "# ou pode extrair a sequência de nucleotídeos da CDS do spike e fazer a tradução a partir dela\r\n",
        "\r\n",
        "# obter a localização do CDS do spike\r\n",
        "for item in arquivo_ncbi.features:\r\n",
        "  if item.type == \"CDS\" and item.qualifiers[\"gene\"] == [\"S\"]:\r\n",
        "    print(item.location)"
      ],
      "execution_count": null,
      "outputs": [
        {
          "output_type": "stream",
          "text": [
            "[21562:25384](+)\n"
          ],
          "name": "stdout"
        }
      ]
    },
    {
      "cell_type": "code",
      "metadata": {
        "colab": {
          "base_uri": "https://localhost:8080/"
        },
        "id": "Ir4ZCcSKUefi",
        "outputId": "c40aa22d-2db8-4e54-91b2-c88390985031"
      },
      "source": [
        "# extrair o genoma completo\r\n",
        "genoma_completo = arquivo_ncbi.seq\r\n",
        "\r\n",
        "# selecionando no genoma apenas a região da CDS spike\r\n",
        "cds_spike = genoma_completo[21562:25384]\r\n",
        "\r\n",
        "# tradução da CDS spike\r\n",
        "cds_spike.translate(to_stop=True)"
      ],
      "execution_count": null,
      "outputs": [
        {
          "output_type": "execute_result",
          "data": {
            "text/plain": [
              "Seq('MFVFLVLLPLVSSQCVNLTTRTQLPPAYTNSFTRGVYYPDKVFRSSVLHSTQDL...HYT')"
            ]
          },
          "metadata": {
            "tags": []
          },
          "execution_count": 36
        }
      ]
    },
    {
      "cell_type": "markdown",
      "metadata": {
        "id": "2VHQChsl8DQN"
      },
      "source": [
        "##**Comparando as 2 sequências de aminoácidos: vacina x NCBI:**"
      ]
    },
    {
      "cell_type": "markdown",
      "metadata": {
        "id": "zxxCzFn702Ev"
      },
      "source": [
        "Na sequência original (do genoma do vírus - NCBI) temos os nucleotídos que irão codificar para Lisina (K) e Valina (V). Esses nucleotídeos foram trocados no mRNA da vacina a fim de codificar o aminoácido Prolina (P). A Prolina é um aminoácido mais \"rígido\", capaz de estabilizar a estrutua tridimensional da proteína, já que esta não estará acoplada à membrana do vírus (função das proteínas está relacionada com sua estrutura terciária)."
      ]
    },
    {
      "cell_type": "code",
      "metadata": {
        "colab": {
          "base_uri": "https://localhost:8080/"
        },
        "id": "ERE19Lg900sI",
        "outputId": "7bcaf105-8e87-45cf-b687-b3a721a98748"
      },
      "source": [
        "print(f'Quantidade de aminoácidos da spike do vírus: {len(proteina_ncbi)}')\r\n",
        "print(f'Quantidade de aminoácidos da spike da vacina: {len(proteina_vacina)}')"
      ],
      "execution_count": null,
      "outputs": [
        {
          "output_type": "stream",
          "text": [
            "Quantidade de aminoácidos da spike do vírus: 1273\n",
            "Quantidade de aminoácidos da spike da vacina: 1273\n"
          ],
          "name": "stdout"
        }
      ]
    },
    {
      "cell_type": "code",
      "metadata": {
        "colab": {
          "base_uri": "https://localhost:8080/"
        },
        "id": "LhbT1Byi09oh",
        "outputId": "e9199bf5-65bd-474f-ded4-a3c16029220c"
      },
      "source": [
        "# comparando cada aminoácido das 2 sequências\r\n",
        "for pos in range(len(proteina_ncbi)):\r\n",
        "  if proteina_ncbi[pos] != proteina_vacina[pos]:\r\n",
        "    print(f\"Aminoácidos são diferentes na posição {pos+1} -> Aminoácido do Vírus é {proteina_ncbi[pos]}; da vacina é {proteina_vacina[pos]}\")"
      ],
      "execution_count": null,
      "outputs": [
        {
          "output_type": "stream",
          "text": [
            "Aminoácidos são diferentes na posição 986 -> Aminoácido do Vírus é K; da vacina é P\n",
            "Aminoácidos são diferentes na posição 987 -> Aminoácido do Vírus é V; da vacina é P\n"
          ],
          "name": "stdout"
        }
      ]
    },
    {
      "cell_type": "markdown",
      "metadata": {
        "id": "kp5HUOSOhYAP"
      },
      "source": [
        "**Tabela**"
      ]
    },
    {
      "cell_type": "code",
      "metadata": {
        "id": "dO1lDLxPZ-oH"
      },
      "source": [
        "# dicionário com as informações dos aminoácidos do vírus e da vacina {posicao: aa}\r\n",
        "df = {}\r\n",
        "for pos in range(len(proteina_ncbi)):\r\n",
        "  df[pos] = [pos+1, proteina_ncbi[pos], proteina_vacina[pos]]\r\n"
      ],
      "execution_count": null,
      "outputs": []
    },
    {
      "cell_type": "code",
      "metadata": {
        "id": "yCCWdLGNXv0H"
      },
      "source": [
        "import pandas as pd"
      ],
      "execution_count": null,
      "outputs": []
    },
    {
      "cell_type": "code",
      "metadata": {
        "colab": {
          "base_uri": "https://localhost:8080/",
          "height": 185
        },
        "id": "WtUgmygRaMin",
        "outputId": "87191a12-ad1b-420c-de14-c35c7b698147"
      },
      "source": [
        "# criando um df com as posições e aminoácidos do vírus e da vacina\r\n",
        "tabela = pd.DataFrame(df)\r\n",
        "\r\n",
        "# renomeando os nomes das linhas\r\n",
        "tabela.rename(index={0: \"Posicao_do_aminoacido\", 1: \"Aminoacido_do_virus\", 2:\"Aminoacido_da_vacina\"}, inplace=True)\r\n",
        "\r\n",
        "tabela"
      ],
      "execution_count": null,
      "outputs": [
        {
          "output_type": "execute_result",
          "data": {
            "text/html": [
              "<div>\n",
              "<style scoped>\n",
              "    .dataframe tbody tr th:only-of-type {\n",
              "        vertical-align: middle;\n",
              "    }\n",
              "\n",
              "    .dataframe tbody tr th {\n",
              "        vertical-align: top;\n",
              "    }\n",
              "\n",
              "    .dataframe thead th {\n",
              "        text-align: right;\n",
              "    }\n",
              "</style>\n",
              "<table border=\"1\" class=\"dataframe\">\n",
              "  <thead>\n",
              "    <tr style=\"text-align: right;\">\n",
              "      <th></th>\n",
              "      <th>0</th>\n",
              "      <th>1</th>\n",
              "      <th>2</th>\n",
              "      <th>3</th>\n",
              "      <th>4</th>\n",
              "      <th>5</th>\n",
              "      <th>6</th>\n",
              "      <th>7</th>\n",
              "      <th>8</th>\n",
              "      <th>9</th>\n",
              "      <th>10</th>\n",
              "      <th>11</th>\n",
              "      <th>12</th>\n",
              "      <th>13</th>\n",
              "      <th>14</th>\n",
              "      <th>15</th>\n",
              "      <th>16</th>\n",
              "      <th>17</th>\n",
              "      <th>18</th>\n",
              "      <th>19</th>\n",
              "      <th>20</th>\n",
              "      <th>21</th>\n",
              "      <th>22</th>\n",
              "      <th>23</th>\n",
              "      <th>24</th>\n",
              "      <th>25</th>\n",
              "      <th>26</th>\n",
              "      <th>27</th>\n",
              "      <th>28</th>\n",
              "      <th>29</th>\n",
              "      <th>30</th>\n",
              "      <th>31</th>\n",
              "      <th>32</th>\n",
              "      <th>33</th>\n",
              "      <th>34</th>\n",
              "      <th>35</th>\n",
              "      <th>36</th>\n",
              "      <th>37</th>\n",
              "      <th>38</th>\n",
              "      <th>39</th>\n",
              "      <th>...</th>\n",
              "      <th>1233</th>\n",
              "      <th>1234</th>\n",
              "      <th>1235</th>\n",
              "      <th>1236</th>\n",
              "      <th>1237</th>\n",
              "      <th>1238</th>\n",
              "      <th>1239</th>\n",
              "      <th>1240</th>\n",
              "      <th>1241</th>\n",
              "      <th>1242</th>\n",
              "      <th>1243</th>\n",
              "      <th>1244</th>\n",
              "      <th>1245</th>\n",
              "      <th>1246</th>\n",
              "      <th>1247</th>\n",
              "      <th>1248</th>\n",
              "      <th>1249</th>\n",
              "      <th>1250</th>\n",
              "      <th>1251</th>\n",
              "      <th>1252</th>\n",
              "      <th>1253</th>\n",
              "      <th>1254</th>\n",
              "      <th>1255</th>\n",
              "      <th>1256</th>\n",
              "      <th>1257</th>\n",
              "      <th>1258</th>\n",
              "      <th>1259</th>\n",
              "      <th>1260</th>\n",
              "      <th>1261</th>\n",
              "      <th>1262</th>\n",
              "      <th>1263</th>\n",
              "      <th>1264</th>\n",
              "      <th>1265</th>\n",
              "      <th>1266</th>\n",
              "      <th>1267</th>\n",
              "      <th>1268</th>\n",
              "      <th>1269</th>\n",
              "      <th>1270</th>\n",
              "      <th>1271</th>\n",
              "      <th>1272</th>\n",
              "    </tr>\n",
              "  </thead>\n",
              "  <tbody>\n",
              "    <tr>\n",
              "      <th>Posicao_do_aminoacido</th>\n",
              "      <td>1</td>\n",
              "      <td>2</td>\n",
              "      <td>3</td>\n",
              "      <td>4</td>\n",
              "      <td>5</td>\n",
              "      <td>6</td>\n",
              "      <td>7</td>\n",
              "      <td>8</td>\n",
              "      <td>9</td>\n",
              "      <td>10</td>\n",
              "      <td>11</td>\n",
              "      <td>12</td>\n",
              "      <td>13</td>\n",
              "      <td>14</td>\n",
              "      <td>15</td>\n",
              "      <td>16</td>\n",
              "      <td>17</td>\n",
              "      <td>18</td>\n",
              "      <td>19</td>\n",
              "      <td>20</td>\n",
              "      <td>21</td>\n",
              "      <td>22</td>\n",
              "      <td>23</td>\n",
              "      <td>24</td>\n",
              "      <td>25</td>\n",
              "      <td>26</td>\n",
              "      <td>27</td>\n",
              "      <td>28</td>\n",
              "      <td>29</td>\n",
              "      <td>30</td>\n",
              "      <td>31</td>\n",
              "      <td>32</td>\n",
              "      <td>33</td>\n",
              "      <td>34</td>\n",
              "      <td>35</td>\n",
              "      <td>36</td>\n",
              "      <td>37</td>\n",
              "      <td>38</td>\n",
              "      <td>39</td>\n",
              "      <td>40</td>\n",
              "      <td>...</td>\n",
              "      <td>1234</td>\n",
              "      <td>1235</td>\n",
              "      <td>1236</td>\n",
              "      <td>1237</td>\n",
              "      <td>1238</td>\n",
              "      <td>1239</td>\n",
              "      <td>1240</td>\n",
              "      <td>1241</td>\n",
              "      <td>1242</td>\n",
              "      <td>1243</td>\n",
              "      <td>1244</td>\n",
              "      <td>1245</td>\n",
              "      <td>1246</td>\n",
              "      <td>1247</td>\n",
              "      <td>1248</td>\n",
              "      <td>1249</td>\n",
              "      <td>1250</td>\n",
              "      <td>1251</td>\n",
              "      <td>1252</td>\n",
              "      <td>1253</td>\n",
              "      <td>1254</td>\n",
              "      <td>1255</td>\n",
              "      <td>1256</td>\n",
              "      <td>1257</td>\n",
              "      <td>1258</td>\n",
              "      <td>1259</td>\n",
              "      <td>1260</td>\n",
              "      <td>1261</td>\n",
              "      <td>1262</td>\n",
              "      <td>1263</td>\n",
              "      <td>1264</td>\n",
              "      <td>1265</td>\n",
              "      <td>1266</td>\n",
              "      <td>1267</td>\n",
              "      <td>1268</td>\n",
              "      <td>1269</td>\n",
              "      <td>1270</td>\n",
              "      <td>1271</td>\n",
              "      <td>1272</td>\n",
              "      <td>1273</td>\n",
              "    </tr>\n",
              "    <tr>\n",
              "      <th>Aminoacido_do_virus</th>\n",
              "      <td>M</td>\n",
              "      <td>F</td>\n",
              "      <td>V</td>\n",
              "      <td>F</td>\n",
              "      <td>L</td>\n",
              "      <td>V</td>\n",
              "      <td>L</td>\n",
              "      <td>L</td>\n",
              "      <td>P</td>\n",
              "      <td>L</td>\n",
              "      <td>V</td>\n",
              "      <td>S</td>\n",
              "      <td>S</td>\n",
              "      <td>Q</td>\n",
              "      <td>C</td>\n",
              "      <td>V</td>\n",
              "      <td>N</td>\n",
              "      <td>L</td>\n",
              "      <td>T</td>\n",
              "      <td>T</td>\n",
              "      <td>R</td>\n",
              "      <td>T</td>\n",
              "      <td>Q</td>\n",
              "      <td>L</td>\n",
              "      <td>P</td>\n",
              "      <td>P</td>\n",
              "      <td>A</td>\n",
              "      <td>Y</td>\n",
              "      <td>T</td>\n",
              "      <td>N</td>\n",
              "      <td>S</td>\n",
              "      <td>F</td>\n",
              "      <td>T</td>\n",
              "      <td>R</td>\n",
              "      <td>G</td>\n",
              "      <td>V</td>\n",
              "      <td>Y</td>\n",
              "      <td>Y</td>\n",
              "      <td>P</td>\n",
              "      <td>D</td>\n",
              "      <td>...</td>\n",
              "      <td>L</td>\n",
              "      <td>C</td>\n",
              "      <td>C</td>\n",
              "      <td>M</td>\n",
              "      <td>T</td>\n",
              "      <td>S</td>\n",
              "      <td>C</td>\n",
              "      <td>C</td>\n",
              "      <td>S</td>\n",
              "      <td>C</td>\n",
              "      <td>L</td>\n",
              "      <td>K</td>\n",
              "      <td>G</td>\n",
              "      <td>C</td>\n",
              "      <td>C</td>\n",
              "      <td>S</td>\n",
              "      <td>C</td>\n",
              "      <td>G</td>\n",
              "      <td>S</td>\n",
              "      <td>C</td>\n",
              "      <td>C</td>\n",
              "      <td>K</td>\n",
              "      <td>F</td>\n",
              "      <td>D</td>\n",
              "      <td>E</td>\n",
              "      <td>D</td>\n",
              "      <td>D</td>\n",
              "      <td>S</td>\n",
              "      <td>E</td>\n",
              "      <td>P</td>\n",
              "      <td>V</td>\n",
              "      <td>L</td>\n",
              "      <td>K</td>\n",
              "      <td>G</td>\n",
              "      <td>V</td>\n",
              "      <td>K</td>\n",
              "      <td>L</td>\n",
              "      <td>H</td>\n",
              "      <td>Y</td>\n",
              "      <td>T</td>\n",
              "    </tr>\n",
              "    <tr>\n",
              "      <th>Aminoacido_da_vacina</th>\n",
              "      <td>M</td>\n",
              "      <td>F</td>\n",
              "      <td>V</td>\n",
              "      <td>F</td>\n",
              "      <td>L</td>\n",
              "      <td>V</td>\n",
              "      <td>L</td>\n",
              "      <td>L</td>\n",
              "      <td>P</td>\n",
              "      <td>L</td>\n",
              "      <td>V</td>\n",
              "      <td>S</td>\n",
              "      <td>S</td>\n",
              "      <td>Q</td>\n",
              "      <td>C</td>\n",
              "      <td>V</td>\n",
              "      <td>N</td>\n",
              "      <td>L</td>\n",
              "      <td>T</td>\n",
              "      <td>T</td>\n",
              "      <td>R</td>\n",
              "      <td>T</td>\n",
              "      <td>Q</td>\n",
              "      <td>L</td>\n",
              "      <td>P</td>\n",
              "      <td>P</td>\n",
              "      <td>A</td>\n",
              "      <td>Y</td>\n",
              "      <td>T</td>\n",
              "      <td>N</td>\n",
              "      <td>S</td>\n",
              "      <td>F</td>\n",
              "      <td>T</td>\n",
              "      <td>R</td>\n",
              "      <td>G</td>\n",
              "      <td>V</td>\n",
              "      <td>Y</td>\n",
              "      <td>Y</td>\n",
              "      <td>P</td>\n",
              "      <td>D</td>\n",
              "      <td>...</td>\n",
              "      <td>L</td>\n",
              "      <td>C</td>\n",
              "      <td>C</td>\n",
              "      <td>M</td>\n",
              "      <td>T</td>\n",
              "      <td>S</td>\n",
              "      <td>C</td>\n",
              "      <td>C</td>\n",
              "      <td>S</td>\n",
              "      <td>C</td>\n",
              "      <td>L</td>\n",
              "      <td>K</td>\n",
              "      <td>G</td>\n",
              "      <td>C</td>\n",
              "      <td>C</td>\n",
              "      <td>S</td>\n",
              "      <td>C</td>\n",
              "      <td>G</td>\n",
              "      <td>S</td>\n",
              "      <td>C</td>\n",
              "      <td>C</td>\n",
              "      <td>K</td>\n",
              "      <td>F</td>\n",
              "      <td>D</td>\n",
              "      <td>E</td>\n",
              "      <td>D</td>\n",
              "      <td>D</td>\n",
              "      <td>S</td>\n",
              "      <td>E</td>\n",
              "      <td>P</td>\n",
              "      <td>V</td>\n",
              "      <td>L</td>\n",
              "      <td>K</td>\n",
              "      <td>G</td>\n",
              "      <td>V</td>\n",
              "      <td>K</td>\n",
              "      <td>L</td>\n",
              "      <td>H</td>\n",
              "      <td>Y</td>\n",
              "      <td>T</td>\n",
              "    </tr>\n",
              "  </tbody>\n",
              "</table>\n",
              "<p>3 rows × 1273 columns</p>\n",
              "</div>"
            ],
            "text/plain": [
              "                      0    1    2    3    4     ...  1268  1269  1270  1271  1272\n",
              "Posicao_do_aminoacido    1    2    3    4    5  ...  1269  1270  1271  1272  1273\n",
              "Aminoacido_do_virus      M    F    V    F    L  ...     K     L     H     Y     T\n",
              "Aminoacido_da_vacina     M    F    V    F    L  ...     K     L     H     Y     T\n",
              "\n",
              "[3 rows x 1273 columns]"
            ]
          },
          "metadata": {
            "tags": []
          },
          "execution_count": 41
        }
      ]
    },
    {
      "cell_type": "code",
      "metadata": {
        "colab": {
          "base_uri": "https://localhost:8080/",
          "height": 343
        },
        "id": "gg2vbwShal8B",
        "outputId": "2dcc1c66-3bd6-4755-8aff-6a5bbff57480"
      },
      "source": [
        "# transposição da tabela\r\n",
        "tabela_virus_vacina = tabela.T\r\n",
        "tabela_virus_vacina.head(10)"
      ],
      "execution_count": null,
      "outputs": [
        {
          "output_type": "execute_result",
          "data": {
            "text/html": [
              "<div>\n",
              "<style scoped>\n",
              "    .dataframe tbody tr th:only-of-type {\n",
              "        vertical-align: middle;\n",
              "    }\n",
              "\n",
              "    .dataframe tbody tr th {\n",
              "        vertical-align: top;\n",
              "    }\n",
              "\n",
              "    .dataframe thead th {\n",
              "        text-align: right;\n",
              "    }\n",
              "</style>\n",
              "<table border=\"1\" class=\"dataframe\">\n",
              "  <thead>\n",
              "    <tr style=\"text-align: right;\">\n",
              "      <th></th>\n",
              "      <th>Posicao_do_aminoacido</th>\n",
              "      <th>Aminoacido_do_virus</th>\n",
              "      <th>Aminoacido_da_vacina</th>\n",
              "    </tr>\n",
              "  </thead>\n",
              "  <tbody>\n",
              "    <tr>\n",
              "      <th>0</th>\n",
              "      <td>1</td>\n",
              "      <td>M</td>\n",
              "      <td>M</td>\n",
              "    </tr>\n",
              "    <tr>\n",
              "      <th>1</th>\n",
              "      <td>2</td>\n",
              "      <td>F</td>\n",
              "      <td>F</td>\n",
              "    </tr>\n",
              "    <tr>\n",
              "      <th>2</th>\n",
              "      <td>3</td>\n",
              "      <td>V</td>\n",
              "      <td>V</td>\n",
              "    </tr>\n",
              "    <tr>\n",
              "      <th>3</th>\n",
              "      <td>4</td>\n",
              "      <td>F</td>\n",
              "      <td>F</td>\n",
              "    </tr>\n",
              "    <tr>\n",
              "      <th>4</th>\n",
              "      <td>5</td>\n",
              "      <td>L</td>\n",
              "      <td>L</td>\n",
              "    </tr>\n",
              "    <tr>\n",
              "      <th>5</th>\n",
              "      <td>6</td>\n",
              "      <td>V</td>\n",
              "      <td>V</td>\n",
              "    </tr>\n",
              "    <tr>\n",
              "      <th>6</th>\n",
              "      <td>7</td>\n",
              "      <td>L</td>\n",
              "      <td>L</td>\n",
              "    </tr>\n",
              "    <tr>\n",
              "      <th>7</th>\n",
              "      <td>8</td>\n",
              "      <td>L</td>\n",
              "      <td>L</td>\n",
              "    </tr>\n",
              "    <tr>\n",
              "      <th>8</th>\n",
              "      <td>9</td>\n",
              "      <td>P</td>\n",
              "      <td>P</td>\n",
              "    </tr>\n",
              "    <tr>\n",
              "      <th>9</th>\n",
              "      <td>10</td>\n",
              "      <td>L</td>\n",
              "      <td>L</td>\n",
              "    </tr>\n",
              "  </tbody>\n",
              "</table>\n",
              "</div>"
            ],
            "text/plain": [
              "  Posicao_do_aminoacido Aminoacido_do_virus Aminoacido_da_vacina\n",
              "0                     1                   M                    M\n",
              "1                     2                   F                    F\n",
              "2                     3                   V                    V\n",
              "3                     4                   F                    F\n",
              "4                     5                   L                    L\n",
              "5                     6                   V                    V\n",
              "6                     7                   L                    L\n",
              "7                     8                   L                    L\n",
              "8                     9                   P                    P\n",
              "9                    10                   L                    L"
            ]
          },
          "metadata": {
            "tags": []
          },
          "execution_count": 42
        }
      ]
    },
    {
      "cell_type": "code",
      "metadata": {
        "colab": {
          "base_uri": "https://localhost:8080/",
          "height": 106
        },
        "id": "QTcbA5AOWWuj",
        "outputId": "a267211f-5aee-48d6-ead4-c61dcc2dfae7"
      },
      "source": [
        "# filtrando onde os aminoácidos são diferentes entre vírus x vacina \r\n",
        "tabela_virus_vacina.query(\"Aminoacido_do_virus != Aminoacido_da_vacina\")"
      ],
      "execution_count": null,
      "outputs": [
        {
          "output_type": "execute_result",
          "data": {
            "text/html": [
              "<div>\n",
              "<style scoped>\n",
              "    .dataframe tbody tr th:only-of-type {\n",
              "        vertical-align: middle;\n",
              "    }\n",
              "\n",
              "    .dataframe tbody tr th {\n",
              "        vertical-align: top;\n",
              "    }\n",
              "\n",
              "    .dataframe thead th {\n",
              "        text-align: right;\n",
              "    }\n",
              "</style>\n",
              "<table border=\"1\" class=\"dataframe\">\n",
              "  <thead>\n",
              "    <tr style=\"text-align: right;\">\n",
              "      <th></th>\n",
              "      <th>Posicao_do_aminoacido</th>\n",
              "      <th>Aminoacido_do_virus</th>\n",
              "      <th>Aminoacido_da_vacina</th>\n",
              "    </tr>\n",
              "  </thead>\n",
              "  <tbody>\n",
              "    <tr>\n",
              "      <th>985</th>\n",
              "      <td>986</td>\n",
              "      <td>K</td>\n",
              "      <td>P</td>\n",
              "    </tr>\n",
              "    <tr>\n",
              "      <th>986</th>\n",
              "      <td>987</td>\n",
              "      <td>V</td>\n",
              "      <td>P</td>\n",
              "    </tr>\n",
              "  </tbody>\n",
              "</table>\n",
              "</div>"
            ],
            "text/plain": [
              "    Posicao_do_aminoacido Aminoacido_do_virus Aminoacido_da_vacina\n",
              "985                   986                   K                    P\n",
              "986                   987                   V                    P"
            ]
          },
          "metadata": {
            "tags": []
          },
          "execution_count": 43
        }
      ]
    },
    {
      "cell_type": "markdown",
      "metadata": {
        "id": "1RffaoOnxoH6"
      },
      "source": [
        "##**Análise da nova variante B.1.1.7:**\r\n",
        "\r\n"
      ]
    },
    {
      "cell_type": "markdown",
      "metadata": {
        "id": "NnlCUjLFa7RP"
      },
      "source": [
        "[Variante B.1.1.7](https://virological.org/t/preliminary-genomic-characterisation-of-an-emergent-sars-cov-2-lineage-in-the-uk-defined-by-a-novel-set-of-spike-mutations/563)"
      ]
    },
    {
      "cell_type": "code",
      "metadata": {
        "colab": {
          "base_uri": "https://localhost:8080/",
          "height": 284
        },
        "id": "n6zXPbnuzaq0",
        "outputId": "a67cd4e9-244d-4d9b-e41d-6370cf607bc8"
      },
      "source": [
        "# extraindo a tabela das mutações da nova variante\r\n",
        "tabela_variante = pd.read_html(\"https://virological.org/t/preliminary-genomic-characterisation-of-an-emergent-sars-cov-2-lineage-in-the-uk-defined-by-a-novel-set-of-spike-mutations/563\")[0]\r\n",
        "\r\n",
        "# selecionando apenas as mutações no gene spike\r\n",
        "tabela_variante_spike = tabela_variante.iloc[5:13]\r\n",
        "tabela_variante_spike"
      ],
      "execution_count": null,
      "outputs": [
        {
          "output_type": "execute_result",
          "data": {
            "text/html": [
              "<div>\n",
              "<style scoped>\n",
              "    .dataframe tbody tr th:only-of-type {\n",
              "        vertical-align: middle;\n",
              "    }\n",
              "\n",
              "    .dataframe tbody tr th {\n",
              "        vertical-align: top;\n",
              "    }\n",
              "\n",
              "    .dataframe thead th {\n",
              "        text-align: right;\n",
              "    }\n",
              "</style>\n",
              "<table border=\"1\" class=\"dataframe\">\n",
              "  <thead>\n",
              "    <tr style=\"text-align: right;\">\n",
              "      <th></th>\n",
              "      <th>gene</th>\n",
              "      <th>nucleotide</th>\n",
              "      <th>amino acid</th>\n",
              "    </tr>\n",
              "  </thead>\n",
              "  <tbody>\n",
              "    <tr>\n",
              "      <th>5</th>\n",
              "      <td>spike</td>\n",
              "      <td>21765-21770 deletion</td>\n",
              "      <td>HV 69-70 deletion</td>\n",
              "    </tr>\n",
              "    <tr>\n",
              "      <th>6</th>\n",
              "      <td>NaN</td>\n",
              "      <td>21991-21993 deletion</td>\n",
              "      <td>Y144 deletion</td>\n",
              "    </tr>\n",
              "    <tr>\n",
              "      <th>7</th>\n",
              "      <td>NaN</td>\n",
              "      <td>A23063T</td>\n",
              "      <td>N501Y</td>\n",
              "    </tr>\n",
              "    <tr>\n",
              "      <th>8</th>\n",
              "      <td>NaN</td>\n",
              "      <td>C23271A</td>\n",
              "      <td>A570D</td>\n",
              "    </tr>\n",
              "    <tr>\n",
              "      <th>9</th>\n",
              "      <td>NaN</td>\n",
              "      <td>C23604A</td>\n",
              "      <td>P681H</td>\n",
              "    </tr>\n",
              "    <tr>\n",
              "      <th>10</th>\n",
              "      <td>NaN</td>\n",
              "      <td>C23709T</td>\n",
              "      <td>T716I</td>\n",
              "    </tr>\n",
              "    <tr>\n",
              "      <th>11</th>\n",
              "      <td>NaN</td>\n",
              "      <td>T24506G</td>\n",
              "      <td>S982A</td>\n",
              "    </tr>\n",
              "    <tr>\n",
              "      <th>12</th>\n",
              "      <td>NaN</td>\n",
              "      <td>G24914C</td>\n",
              "      <td>D1118H</td>\n",
              "    </tr>\n",
              "  </tbody>\n",
              "</table>\n",
              "</div>"
            ],
            "text/plain": [
              "     gene            nucleotide         amino acid\n",
              "5   spike  21765-21770 deletion  HV 69-70 deletion\n",
              "6     NaN  21991-21993 deletion      Y144 deletion\n",
              "7     NaN               A23063T              N501Y\n",
              "8     NaN               C23271A              A570D\n",
              "9     NaN               C23604A              P681H\n",
              "10    NaN               C23709T              T716I\n",
              "11    NaN               T24506G              S982A\n",
              "12    NaN               G24914C             D1118H"
            ]
          },
          "metadata": {
            "tags": []
          },
          "execution_count": 44
        }
      ]
    },
    {
      "cell_type": "code",
      "metadata": {
        "colab": {
          "base_uri": "https://localhost:8080/",
          "height": 284
        },
        "id": "XTTdNeGD2jAW",
        "outputId": "02914815-9860-45f3-f33e-12e2b3d26689"
      },
      "source": [
        "# preenchendo os NaN como o nome do gene 'spike'\r\n",
        "tabela_variante_spike = tabela_variante_spike.fillna(\"spike\")\r\n",
        "\r\n",
        "# reset do indice\r\n",
        "tabela_variante_spike.reset_index(inplace=True)\r\n",
        "\r\n",
        "# renomeando colunas\r\n",
        "tabela_variante_spike.rename(columns={\"nucleotide\": \"alteracao_no_nucleotideo_variante\", \"amino acid\": \"alteracao_no_aminoacido_variante\"})"
      ],
      "execution_count": null,
      "outputs": [
        {
          "output_type": "execute_result",
          "data": {
            "text/html": [
              "<div>\n",
              "<style scoped>\n",
              "    .dataframe tbody tr th:only-of-type {\n",
              "        vertical-align: middle;\n",
              "    }\n",
              "\n",
              "    .dataframe tbody tr th {\n",
              "        vertical-align: top;\n",
              "    }\n",
              "\n",
              "    .dataframe thead th {\n",
              "        text-align: right;\n",
              "    }\n",
              "</style>\n",
              "<table border=\"1\" class=\"dataframe\">\n",
              "  <thead>\n",
              "    <tr style=\"text-align: right;\">\n",
              "      <th></th>\n",
              "      <th>index</th>\n",
              "      <th>gene</th>\n",
              "      <th>alteracao_no_nucleotideo_variante</th>\n",
              "      <th>alteracao_no_aminoacido_variante</th>\n",
              "    </tr>\n",
              "  </thead>\n",
              "  <tbody>\n",
              "    <tr>\n",
              "      <th>0</th>\n",
              "      <td>5</td>\n",
              "      <td>spike</td>\n",
              "      <td>21765-21770 deletion</td>\n",
              "      <td>HV 69-70 deletion</td>\n",
              "    </tr>\n",
              "    <tr>\n",
              "      <th>1</th>\n",
              "      <td>6</td>\n",
              "      <td>spike</td>\n",
              "      <td>21991-21993 deletion</td>\n",
              "      <td>Y144 deletion</td>\n",
              "    </tr>\n",
              "    <tr>\n",
              "      <th>2</th>\n",
              "      <td>7</td>\n",
              "      <td>spike</td>\n",
              "      <td>A23063T</td>\n",
              "      <td>N501Y</td>\n",
              "    </tr>\n",
              "    <tr>\n",
              "      <th>3</th>\n",
              "      <td>8</td>\n",
              "      <td>spike</td>\n",
              "      <td>C23271A</td>\n",
              "      <td>A570D</td>\n",
              "    </tr>\n",
              "    <tr>\n",
              "      <th>4</th>\n",
              "      <td>9</td>\n",
              "      <td>spike</td>\n",
              "      <td>C23604A</td>\n",
              "      <td>P681H</td>\n",
              "    </tr>\n",
              "    <tr>\n",
              "      <th>5</th>\n",
              "      <td>10</td>\n",
              "      <td>spike</td>\n",
              "      <td>C23709T</td>\n",
              "      <td>T716I</td>\n",
              "    </tr>\n",
              "    <tr>\n",
              "      <th>6</th>\n",
              "      <td>11</td>\n",
              "      <td>spike</td>\n",
              "      <td>T24506G</td>\n",
              "      <td>S982A</td>\n",
              "    </tr>\n",
              "    <tr>\n",
              "      <th>7</th>\n",
              "      <td>12</td>\n",
              "      <td>spike</td>\n",
              "      <td>G24914C</td>\n",
              "      <td>D1118H</td>\n",
              "    </tr>\n",
              "  </tbody>\n",
              "</table>\n",
              "</div>"
            ],
            "text/plain": [
              "   index  ... alteracao_no_aminoacido_variante\n",
              "0      5  ...                HV 69-70 deletion\n",
              "1      6  ...                    Y144 deletion\n",
              "2      7  ...                            N501Y\n",
              "3      8  ...                            A570D\n",
              "4      9  ...                            P681H\n",
              "5     10  ...                            T716I\n",
              "6     11  ...                            S982A\n",
              "7     12  ...                           D1118H\n",
              "\n",
              "[8 rows x 4 columns]"
            ]
          },
          "metadata": {
            "tags": []
          },
          "execution_count": 45
        }
      ]
    },
    {
      "cell_type": "markdown",
      "metadata": {
        "id": "j9AyWXmGZv8C"
      },
      "source": [
        "##**Criando uma tabela com as informações dos aminoácidos do vírus x vacina x variante:**"
      ]
    },
    {
      "cell_type": "code",
      "metadata": {
        "colab": {
          "base_uri": "https://localhost:8080/",
          "height": 314
        },
        "id": "mACO8belxIux",
        "outputId": "1829bc25-1eb1-486e-b6bd-8839bd0dab02"
      },
      "source": [
        "# selecionando os índices dos aminoácidos da tabela virus x vacina que foram alterados na nova variante\r\n",
        "filtro = [69, 70, 144, 501, 570, 681, 716, 982, 1118]\r\n",
        "\r\n",
        "# novo df\r\n",
        "tabela_virus_vacina_variante = tabela_virus_vacina[tabela_virus_vacina[\"Posicao_do_aminoacido\"].isin(filtro)]\r\n",
        "\r\n",
        "# reset do indice\r\n",
        "tabela_virus_vacina_variante = tabela_virus_vacina_variante.reset_index(drop=True)\r\n",
        "tabela_virus_vacina_variante"
      ],
      "execution_count": null,
      "outputs": [
        {
          "output_type": "execute_result",
          "data": {
            "text/html": [
              "<div>\n",
              "<style scoped>\n",
              "    .dataframe tbody tr th:only-of-type {\n",
              "        vertical-align: middle;\n",
              "    }\n",
              "\n",
              "    .dataframe tbody tr th {\n",
              "        vertical-align: top;\n",
              "    }\n",
              "\n",
              "    .dataframe thead th {\n",
              "        text-align: right;\n",
              "    }\n",
              "</style>\n",
              "<table border=\"1\" class=\"dataframe\">\n",
              "  <thead>\n",
              "    <tr style=\"text-align: right;\">\n",
              "      <th></th>\n",
              "      <th>Posicao_do_aminoacido</th>\n",
              "      <th>Aminoacido_do_virus</th>\n",
              "      <th>Aminoacido_da_vacina</th>\n",
              "    </tr>\n",
              "  </thead>\n",
              "  <tbody>\n",
              "    <tr>\n",
              "      <th>0</th>\n",
              "      <td>69</td>\n",
              "      <td>H</td>\n",
              "      <td>H</td>\n",
              "    </tr>\n",
              "    <tr>\n",
              "      <th>1</th>\n",
              "      <td>70</td>\n",
              "      <td>V</td>\n",
              "      <td>V</td>\n",
              "    </tr>\n",
              "    <tr>\n",
              "      <th>2</th>\n",
              "      <td>144</td>\n",
              "      <td>Y</td>\n",
              "      <td>Y</td>\n",
              "    </tr>\n",
              "    <tr>\n",
              "      <th>3</th>\n",
              "      <td>501</td>\n",
              "      <td>N</td>\n",
              "      <td>N</td>\n",
              "    </tr>\n",
              "    <tr>\n",
              "      <th>4</th>\n",
              "      <td>570</td>\n",
              "      <td>A</td>\n",
              "      <td>A</td>\n",
              "    </tr>\n",
              "    <tr>\n",
              "      <th>5</th>\n",
              "      <td>681</td>\n",
              "      <td>P</td>\n",
              "      <td>P</td>\n",
              "    </tr>\n",
              "    <tr>\n",
              "      <th>6</th>\n",
              "      <td>716</td>\n",
              "      <td>T</td>\n",
              "      <td>T</td>\n",
              "    </tr>\n",
              "    <tr>\n",
              "      <th>7</th>\n",
              "      <td>982</td>\n",
              "      <td>S</td>\n",
              "      <td>S</td>\n",
              "    </tr>\n",
              "    <tr>\n",
              "      <th>8</th>\n",
              "      <td>1118</td>\n",
              "      <td>D</td>\n",
              "      <td>D</td>\n",
              "    </tr>\n",
              "  </tbody>\n",
              "</table>\n",
              "</div>"
            ],
            "text/plain": [
              "  Posicao_do_aminoacido Aminoacido_do_virus Aminoacido_da_vacina\n",
              "0                    69                   H                    H\n",
              "1                    70                   V                    V\n",
              "2                   144                   Y                    Y\n",
              "3                   501                   N                    N\n",
              "4                   570                   A                    A\n",
              "5                   681                   P                    P\n",
              "6                   716                   T                    T\n",
              "7                   982                   S                    S\n",
              "8                  1118                   D                    D"
            ]
          },
          "metadata": {
            "tags": []
          },
          "execution_count": 46
        }
      ]
    },
    {
      "cell_type": "code",
      "metadata": {
        "id": "xtPV2t1_Nme7"
      },
      "source": [
        "# lista com as alterações dos aminoácidos da nova variante\r\n",
        "variante = [\"delecao\", \"delecao\", \"delecao\", \"Y\", \"D\", \"H\", \"I\", \"A\", \"H\"]"
      ],
      "execution_count": null,
      "outputs": []
    },
    {
      "cell_type": "code",
      "metadata": {
        "colab": {
          "base_uri": "https://localhost:8080/",
          "height": 314
        },
        "id": "bN8mT4r2OK-y",
        "outputId": "97539000-e26f-4019-da02-2e326d02bc47"
      },
      "source": [
        "# adicionando uma coluna com os aminoácidos da nova variante \r\n",
        "tabela_virus_vacina_variante[\"Aminoacido_da_variante\"] = variante\r\n",
        "tabela_virus_vacina_variante"
      ],
      "execution_count": null,
      "outputs": [
        {
          "output_type": "execute_result",
          "data": {
            "text/html": [
              "<div>\n",
              "<style scoped>\n",
              "    .dataframe tbody tr th:only-of-type {\n",
              "        vertical-align: middle;\n",
              "    }\n",
              "\n",
              "    .dataframe tbody tr th {\n",
              "        vertical-align: top;\n",
              "    }\n",
              "\n",
              "    .dataframe thead th {\n",
              "        text-align: right;\n",
              "    }\n",
              "</style>\n",
              "<table border=\"1\" class=\"dataframe\">\n",
              "  <thead>\n",
              "    <tr style=\"text-align: right;\">\n",
              "      <th></th>\n",
              "      <th>Posicao_do_aminoacido</th>\n",
              "      <th>Aminoacido_do_virus</th>\n",
              "      <th>Aminoacido_da_vacina</th>\n",
              "      <th>Aminoacido_da_variante</th>\n",
              "    </tr>\n",
              "  </thead>\n",
              "  <tbody>\n",
              "    <tr>\n",
              "      <th>0</th>\n",
              "      <td>69</td>\n",
              "      <td>H</td>\n",
              "      <td>H</td>\n",
              "      <td>delecao</td>\n",
              "    </tr>\n",
              "    <tr>\n",
              "      <th>1</th>\n",
              "      <td>70</td>\n",
              "      <td>V</td>\n",
              "      <td>V</td>\n",
              "      <td>delecao</td>\n",
              "    </tr>\n",
              "    <tr>\n",
              "      <th>2</th>\n",
              "      <td>144</td>\n",
              "      <td>Y</td>\n",
              "      <td>Y</td>\n",
              "      <td>delecao</td>\n",
              "    </tr>\n",
              "    <tr>\n",
              "      <th>3</th>\n",
              "      <td>501</td>\n",
              "      <td>N</td>\n",
              "      <td>N</td>\n",
              "      <td>Y</td>\n",
              "    </tr>\n",
              "    <tr>\n",
              "      <th>4</th>\n",
              "      <td>570</td>\n",
              "      <td>A</td>\n",
              "      <td>A</td>\n",
              "      <td>D</td>\n",
              "    </tr>\n",
              "    <tr>\n",
              "      <th>5</th>\n",
              "      <td>681</td>\n",
              "      <td>P</td>\n",
              "      <td>P</td>\n",
              "      <td>H</td>\n",
              "    </tr>\n",
              "    <tr>\n",
              "      <th>6</th>\n",
              "      <td>716</td>\n",
              "      <td>T</td>\n",
              "      <td>T</td>\n",
              "      <td>I</td>\n",
              "    </tr>\n",
              "    <tr>\n",
              "      <th>7</th>\n",
              "      <td>982</td>\n",
              "      <td>S</td>\n",
              "      <td>S</td>\n",
              "      <td>A</td>\n",
              "    </tr>\n",
              "    <tr>\n",
              "      <th>8</th>\n",
              "      <td>1118</td>\n",
              "      <td>D</td>\n",
              "      <td>D</td>\n",
              "      <td>H</td>\n",
              "    </tr>\n",
              "  </tbody>\n",
              "</table>\n",
              "</div>"
            ],
            "text/plain": [
              "  Posicao_do_aminoacido  ... Aminoacido_da_variante\n",
              "0                    69  ...                delecao\n",
              "1                    70  ...                delecao\n",
              "2                   144  ...                delecao\n",
              "3                   501  ...                      Y\n",
              "4                   570  ...                      D\n",
              "5                   681  ...                      H\n",
              "6                   716  ...                      I\n",
              "7                   982  ...                      A\n",
              "8                  1118  ...                      H\n",
              "\n",
              "[9 rows x 4 columns]"
            ]
          },
          "metadata": {
            "tags": []
          },
          "execution_count": 48
        }
      ]
    }
  ]
}